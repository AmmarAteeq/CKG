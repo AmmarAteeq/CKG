{
 "cells": [
  {
   "cell_type": "markdown",
   "id": "3e439f57",
   "metadata": {},
   "source": [
    "# WRITING VALUES ON SUBGRAPH "
   ]
  },
  {
   "cell_type": "code",
   "execution_count": null,
   "id": "8d05bb5b",
   "metadata": {},
   "outputs": [],
   "source": [
    "\"\"\"\n",
    "using Daniel's Repo to create conection to neo4j\n",
    "\n",
    "ammending repo by commenting out a line to not get remapped values\n",
    "\n",
    "calculate node degrees \n",
    "\n",
    "write on subgraph\n",
    "\"\"\""
   ]
  },
  {
   "cell_type": "code",
   "execution_count": 2,
   "id": "145f569a",
   "metadata": {},
   "outputs": [
    {
     "data": {
      "text/plain": [
       "'/Users/ammar.ateeq'"
      ]
     },
     "execution_count": 2,
     "metadata": {},
     "output_type": "execute_result"
    }
   ],
   "source": [
    "pwd()"
   ]
  }
 ],
 "metadata": {
  "kernelspec": {
   "display_name": "Python 3 (ipykernel)",
   "language": "python",
   "name": "python3"
  },
  "language_info": {
   "codemirror_mode": {
    "name": "ipython",
    "version": 3
   },
   "file_extension": ".py",
   "mimetype": "text/x-python",
   "name": "python",
   "nbconvert_exporter": "python",
   "pygments_lexer": "ipython3",
   "version": "3.9.12"
  }
 },
 "nbformat": 4,
 "nbformat_minor": 5
}
